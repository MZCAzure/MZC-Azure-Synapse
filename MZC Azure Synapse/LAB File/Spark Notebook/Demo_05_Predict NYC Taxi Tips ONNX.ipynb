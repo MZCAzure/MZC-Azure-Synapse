{
  "cells": [
    {
      "cell_type": "markdown",
      "source": [
        "# Predict NYC Taxi Tips \r\n",
        "The notebook ingests, prepares and then trains a model based on an Open Dataset that tracks NYC Yellow Taxi trips and various attributes around them. The goal is to for a given trip, predict whether there will be a tip or not. The model then will be converted to ONNX format and tracked by MLFlow.\r\n",
        "We will later use the ONNX model for inferencing in Azure Synapse SQL Pool using the new model scoring wizard.\r\n",
        "## Note:\r\n",
        "**Please note that for successful conversion to ONNX, this notebook requires using  Scikit-learn version 0.20.3.**\r\n",
        "Run the first cell to list the packages installed and check your sklearn version. Uncomment the pip install command to install the correct version\r\n",
        "\r\n",
        "%pip install scikit-learn==0.20.3\r\n",
        "\r\n"
      ],
      "metadata": {
        "nteract": {
          "transient": {
            "deleting": false
          }
        }
      }
    },
    {
      "cell_type": "markdown",
      "source": [
        "## Load data\r\n",
        "Get a sample data of nyc yellow taxi from Azure Open Datasets"
      ],
      "metadata": {
        "nteract": {
          "transient": {
            "deleting": false
          }
        }
      }
    },
    {
      "cell_type": "code",
      "source": [
        "%pip list\r\n",
        "%pip install scikit-learn==0.20.3"
      ],
      "outputs": [
        {
          "output_type": "stream",
          "name": "stdout",
          "text": "Package                                 Version\n--------------------------------------- -------------------\nabsl-py                                 0.14.0\nadal                                    1.2.7\naiohttp                                 3.7.4.post0\naiohttp-cors                            0.7.0\naioredis                                1.3.1\nansiwrap                                0.8.4\nantlr4-python3-runtime                  4.7.2\nanyio                                   3.3.2\napplicationinsights                     0.11.10\narch                                    4.14\nargcomplete                             1.12.3\nargon2-cffi                             21.1.0\nastor                                   0.8.1\nastroid                                 2.8.0\nastunparse                              1.6.3\nasync-timeout                           3.0.1\nattrs                                   21.2.0\nautokeras                               1.0.16\nautopep8                                1.5.7\nazure-appconfiguration                  1.1.1\nazure-batch                             10.0.0\nazure-cli                               2.24.0\nazure-cli-core                          2.24.0\nazure-cli-telemetry                     1.0.6\nazure-common                            1.1.27\nazure-core                              1.18.0\nazure-cosmos                            3.2.0\nazure-datalake-store                    0.0.52\nazure-functions-devops-build            0.0.22\nazure-graphrbac                         0.61.1\nazure-identity                          1.4.1\nazure-keyvault                          1.1.0\nazure-keyvault-administration           4.0.0b3\nazure-loganalytics                      0.1.0\nazure-mgmt-advisor                      2.0.1\nazure-mgmt-apimanagement                0.2.0\nazure-mgmt-appconfiguration             1.0.1\nazure-mgmt-applicationinsights          0.1.1\nazure-mgmt-authorization                0.61.0\nazure-mgmt-batch                        9.0.0\nazure-mgmt-batchai                      2.0.0\nazure-mgmt-billing                      1.0.0\nazure-mgmt-botservice                   0.3.0\nazure-mgmt-cdn                          11.0.0\nazure-mgmt-cognitiveservices            6.3.0\nazure-mgmt-compute                      20.0.0\nazure-mgmt-consumption                  2.0.0\nazure-mgmt-containerinstance            1.5.0\nazure-mgmt-containerregistry            8.1.0\nazure-mgmt-containerservice             11.2.0\nazure-mgmt-core                         1.3.0\nazure-mgmt-cosmosdb                     6.3.0\nazure-mgmt-databoxedge                  0.2.0\nazure-mgmt-datalake-analytics           0.2.1\nazure-mgmt-datalake-nspkg               3.0.1\nazure-mgmt-datalake-store               0.5.0\nazure-mgmt-datamigration                4.1.0\nazure-mgmt-deploymentmanager            0.2.0\nazure-mgmt-devtestlabs                  4.0.0\nazure-mgmt-dns                          8.0.0\nazure-mgmt-eventgrid                    3.0.0rc9\nazure-mgmt-eventhub                     4.1.0\nazure-mgmt-hdinsight                    2.2.0\nazure-mgmt-imagebuilder                 0.4.0\nazure-mgmt-iotcentral                   4.1.0\nazure-mgmt-iothub                       2.0.0\nazure-mgmt-iothubprovisioningservices   0.2.0\nazure-mgmt-keyvault                     9.1.0\nazure-mgmt-kusto                        0.3.0\nazure-mgmt-loganalytics                 8.0.0\nazure-mgmt-managedservices              1.0.0\nazure-mgmt-managementgroups             0.2.0\nazure-mgmt-maps                         0.1.0\nazure-mgmt-marketplaceordering          1.1.0\nazure-mgmt-media                        3.1.0\nazure-mgmt-monitor                      2.0.0\nazure-mgmt-msi                          0.2.0\nazure-mgmt-netapp                       2.0.0\nazure-mgmt-network                      19.0.0\nazure-mgmt-nspkg                        3.0.2\nazure-mgmt-policyinsights               0.5.0\nazure-mgmt-privatedns                   1.0.0\nazure-mgmt-rdbms                        8.1.0\nazure-mgmt-recoveryservices             0.4.0\nazure-mgmt-recoveryservicesbackup       0.11.0\nazure-mgmt-redhatopenshift              0.1.0\nazure-mgmt-redis                        7.0.0\nazure-mgmt-relay                        0.1.0\nazure-mgmt-reservations                 0.6.0\nazure-mgmt-resource                     13.0.0\nazure-mgmt-search                       8.0.0\nazure-mgmt-security                     0.6.0\nazure-mgmt-servicebus                   6.0.0\nazure-mgmt-servicefabric                0.5.0\nazure-mgmt-servicefabricmanagedclusters 1.0.0\nazure-mgmt-signalr                      0.4.0\nazure-mgmt-sql                          0.26.0\nazure-mgmt-sqlvirtualmachine            0.5.0\nazure-mgmt-storage                      11.2.0\nazure-mgmt-synapse                      0.6.0\nazure-mgmt-trafficmanager               0.51.0\nazure-mgmt-web                          2.0.0\nazure-multiapi-storage                  0.6.2\nazure-nspkg                             3.0.2\nazure-storage-blob                      12.9.0\nazure-storage-common                    1.4.2\nazure-storage-queue                     12.1.6\nazure-synapse-accesscontrol             0.5.0\nazure-synapse-artifacts                 0.6.0\nazure-synapse-spark                     0.2.0\nazureml-accel-models                    1.34.0\nazureml-automl-core                     1.34.0.post1\nazureml-automl-dnn-nlp                  1.34.0\nazureml-automl-runtime                  1.34.0.post1\nazureml-cli-common                      1.34.0\nazureml-contrib-automl-pipeline-steps   1.34.0\nazureml-contrib-dataset                 1.34.0\nazureml-contrib-fairness                1.34.0\nazureml-contrib-notebook                1.34.0\nazureml-contrib-pipeline-steps          1.34.0\nazureml-contrib-reinforcementlearning   1.34.0\nazureml-contrib-server                  1.34.0\nazureml-contrib-services                1.34.0\nazureml-core                            1.34.0\nazureml-datadrift                       1.34.0\nazureml-dataprep                        2.22.2\nazureml-dataprep-native                 38.0.0\nazureml-dataprep-rslex                  1.20.2\nazureml-dataset-runtime                 1.34.0\nazureml-defaults                        1.34.0\nazureml-explain-model                   1.34.0\nazureml-inference-server-http           0.3.1\nazureml-interpret                       1.34.0\nazureml-mlflow                          1.34.0\nazureml-opendatasets                    1.34.0\nazureml-pipeline                        1.34.0\nazureml-pipeline-core                   1.34.0\nazureml-pipeline-steps                  1.34.0\nazureml-responsibleai                   1.34.0\nazureml-samples                         0+unknown\nazureml-sdk                             1.34.0\nazureml-telemetry                       1.34.0\nazureml-tensorboard                     1.34.0\nazureml-train                           1.34.0\nazureml-train-automl                    1.34.0\nazureml-train-automl-client             1.34.0\nazureml-train-automl-runtime            1.34.0.post1\nazureml-train-core                      1.34.0\nazureml-train-restclients-hyperdrive    1.34.0\nazureml-widgets                         1.34.0\nbackcall                                0.2.0\nbackports.functools-lru-cache           1.6.4\nbackports.tempfile                      1.0\nbackports.weakref                       1.0.post1\nbcrypt                                  3.2.0\nbeautifulsoup4                          4.10.0\nbleach                                  4.1.0\nblessings                               1.7\nblis                                    0.2.4\nbokeh                                   2.3.3\nboto                                    2.49.0\nboto3                                   1.15.18\nbotocore                                1.18.18\nBottleneck                              1.3.2\ncached-property                         1.5.2\ncachetools                              4.2.2\ncertifi                                 2021.5.30\ncffi                                    1.14.6\nchardet                                 4.0.0\ncharset-normalizer                      2.0.4\nclick                                   8.0.1\ncloudpickle                             1.6.0\ncolorama                                0.4.4\ncolorful                                0.5.4\nconfigparser                            3.7.4\ncontextlib2                             21.6.0\ncontextvars                             2.4\nconvertdate                             2.3.2\ncoremltools                             2.1.0\ncryptography                            3.4.8\ncycler                                  0.10.0\ncymem                                   2.0.5\nCython                                  0.29.24\ndask                                    2.30.0\ndatabricks-cli                          0.15.0\ndataclasses                             0.8\ndatasets                                1.8.0\ndecorator                               5.1.0\ndefusedxml                              0.7.1\ndice-ml                                 0.6.1\ndill                                    0.3.4\ndistributed                             2.30.1\ndistro                                  1.6.0\ndm-tree                                 0.1.6\ndocker                                  5.0.2\ndotnetcore2                             2.1.21\ndowhy                                   0.6\neconml                                  0.12.0\nen-core-web-sm                          2.1.0\nencrypted-inference                     0.9\nentrypoints                             0.3\nenum34                                  1.1.10\nerroranalysis                           0.1.20\nfabric                                  2.6.0\nfairlearn                               0.7.0\nfastai                                  1.0.61\nfastprogress                            1.0.0\nfbprophet                               0.5\nfilelock                                3.0.12\nfire                                    0.4.0\nflake8                                  3.9.2\nFlask                                   1.0.3\nFlask-Cors                              3.0.10\nflatbuffers                             2.0\nfsspec                                  2021.8.1\nfusepy                                  3.0.1\nfuture                                  0.18.2\ngast                                    0.2.2\ngensim                                  3.8.3\ngevent                                  1.3.6\ngitdb                                   4.0.7\nGitPython                               3.1.18\ngoogle-api-core                         1.31.2\ngoogle-auth                             1.35.0\ngoogle-auth-oauthlib                    0.4.6\ngoogle-pasta                            0.2.0\ngoogleapis-common-protos                1.53.0\ngpustat                                 0.6.0\ngraphviz                                0.14.2\ngreenlet                                1.1.1\ngrpcio                                  1.40.0\ngunicorn                                20.1.0\ngym                                     0.20.0\nh5py                                    3.1.0\nHeapDict                                1.0.1\nhiredis                                 2.0.0\nholidays                                0.9.11\nhorovod                                 0.19.1\nhuggingface-hub                         0.0.17\nhumanfriendly                           9.2\nidna                                    3.2\nidna-ssl                                1.1.0\nimageio                                 2.9.0\nimmutables                              0.16\nimportlib-metadata                      4.8.1\ninference-schema                        1.1.0\ninterpret-community                     0.19.3\ninterpret-core                          0.2.5\ninvoke                                  1.6.0\nipykernel                               5.5.5\nipython                                 7.16.1\nipython-genutils                        0.2.0\nipywidgets                              7.6.5\nisodate                                 0.6.0\nisort                                   5.9.3\nitsdangerous                            2.0.1\njavaproperties                          0.5.1\njedi                                    0.17.2\njeepney                                 0.7.1\nJinja2                                  2.11.2\njmespath                                0.10.0\njoblib                                  0.14.1\njsmin                                   2.2.2\njson-logging-py                         0.2\njson5                                   0.9.6\njsondiff                                1.2.0\njsonpickle                              2.0.0\njsonschema                              3.2.0\njupyter                                 1.0.0\njupyter-client                          6.1.12\njupyter-console                         6.4.0\njupyter-core                            4.8.1\njupyter-server                          1.11.0\njupyter-server-proxy                    3.1.0\njupyterlab                              2.1.4\njupyterlab-nvdashboard                  0.5.0\njupyterlab-server                       1.2.0\njupyterlab-widgets                      1.0.2\njupytext                                1.6.0\nKeras                                   2.3.1\nKeras-Applications                      1.0.8\nkeras-nightly                           2.5.0.dev2021032900\nKeras-Preprocessing                     1.1.2\nkeras-tuner                             1.0.4\nkeras2onnx                              1.6.0\nkiwisolver                              1.3.1\nknack                                   0.8.2\nkt-legacy                               1.0.4\nlazy-object-proxy                       1.6.0\nliac-arff                               2.5.0\nlightgbm                                2.3.0\nllvmlite                                0.36.0\nlocket                                  0.2.1\nlunardate                               0.2.0\nlz4                                     3.1.3\nMarkdown                                3.3.4\nmarkdown-it-py                          0.5.8\nMarkupSafe                              2.0.1\nmatplotlib                              3.2.1\nmccabe                                  0.6.1\nmistune                                 0.8.4\nmkl-fft                                 1.2.0\nmkl-random                              1.1.0\nmkl-service                             2.3.0\nmlflow-skinny                           1.20.2\nmock                                    4.0.3\nmpmath                                  1.2.1\nmsal                                    1.14.0\nmsal-extensions                         0.2.2\nmsgpack                                 1.0.2\nmsrest                                  0.6.21\nmsrestazure                             0.6.4\nmultidict                               5.1.0\nmultiprocess                            0.70.12.2\nmurmurhash                              1.0.5\nnbconvert                               5.6.1\nnbformat                                5.1.3\nnbresuse                                0.4.0\nndg-httpsclient                         0.5.1\nnetworkx                                2.5\nnimbusml                                1.8.0\nnotebook                                6.4.4\nnumba                                   0.53.1\nnumexpr                                 2.7.3\nnumpy                                   1.18.5\nnvidia-ml-py3                           7.352.0\noauthlib                                3.1.1\nolefile                                 0.46\nonnx                                    1.7.0\nonnxconverter-common                    1.6.0\nonnxmltools                             1.4.1\nonnxruntime                             1.8.0\nopencensus                              0.7.13\nopencensus-context                      0.1.2\nopencensus-ext-azure                    1.0.8\nopencv-python-headless                  4.5.3.56\nopt-einsum                              3.3.0\npackaging                               21.0\npandas                                  0.25.3\npandas-ml                               0.6.1\npandocfilters                           1.5.0\npapermill                               1.2.1\nparamiko                                2.7.2\nparso                                   0.8.2\npartd                                   1.2.0\npathlib2                                2.3.6\npathspec                                0.9.0\npatsy                                   0.5.1\npexpect                                 4.8.0\npickleshare                             0.7.5\nPillow                                  8.0.0\npip                                     20.1.1\npkginfo                                 1.7.1\nplac                                    0.9.6\nplatformdirs                            2.4.0\nplotly                                  5.3.1\npluggy                                  1.0.0\npmdarima                                1.1.1\nportalocker                             1.7.1\npreshed                                 2.0.1\nprometheus-client                       0.11.0\nprompt-toolkit                          3.0.20\nproperty-cached                         1.6.4\nprotobuf                                3.17.3\npsutil                                  5.8.0\npsycopg2                                2.8.6\nptyprocess                              0.7.0\npy-spy                                  0.3.9\npy4j                                    0.10.9\npyarrow                                 3.0.0\npyasn1                                  0.4.8\npyasn1-modules                          0.2.8\npycocotools                             2.0.0\npycodestyle                             2.6.0\npycparser                               2.20\npydocstyle                              6.1.1\npydot                                   1.4.2\npyflakes                                2.2.0\nPyGithub                                1.38\nPygments                                2.10.0\nPyJWT                                   2.1.0\npylint                                  2.11.1\nPyMeeus                                 0.5.10\nPyNaCl                                  1.4.0\npynvml                                  11.0.0\npyodbc                                  4.0.0-unsupported\npyOpenSSL                               20.0.1\npyparsing                               2.4.7\npyrsistent                              0.18.0\npyspark                                 3.1.2\npystan                                  2.19.0.0\npython-dateutil                         2.8.2\npython-jsonrpc-server                   0.4.0\npython-language-server                  0.35.0\npytorch-transformers                    1.0.0\npytz                                    2021.1\nPyWavelets                              1.1.1\nPyYAML                                  5.4.1\npyzmq                                   22.3.0\nqtconsole                               5.1.1\nQtPy                                    1.11.2\nQuantLib                                1.23\nrai-core-flask                          0.2.2\nraiwidgets                              0.7.0\nray                                     1.6.0\nredis                                   3.5.3\nregex                                   2021.8.28\nrequests                                2.26.0\nrequests-oauthlib                       1.3.0\nrequests-unixsocket                     0.2.0\nresponsibleai                           0.7.0\nrope                                    0.20.1\nrsa                                     4.7.2\nruamel.yaml                             0.17.4\nruamel.yaml.clib                        0.2.6\ns3transfer                              0.3.7\nsacremoses                              0.0.45\nscikit-image                            0.17.2\nscikit-learn                            0.22.2.post1\nscipy                                   1.5.2\nscp                                     0.13.6\nscrapbook                               0.5.0\nseaborn                                 0.11.2\nSecretStorage                           3.3.1\nsemver                                  2.13.0\nSend2Trash                              1.8.0\nsentencepiece                           0.1.96\nseqeval                                 1.2.2\nsetuptools                              50.3.0\nsetuptools-git                          1.2\nshap                                    0.39.0\nsimpervisor                             0.4\nsip                                     4.19.24\nsix                                     1.16.0\nskl2onnx                                1.4.9\nsklearn                                 0.0\nsklearn-pandas                          1.7.0\nslicer                                  0.0.7\nsmart-open                              1.9.0\nsmmap                                   4.0.0\nsniffio                                 1.2.0\nsnowballstemmer                         2.1.0\nsortedcontainers                        2.4.0\nsoupsieve                               2.2.1\nspacy                                   2.1.8\nsparse                                  0.13.0\nsrsly                                   1.0.5\nsshtunnel                               0.1.5\nstatsmodels                             0.10.2\nsympy                                   1.8\ntabulate                                0.8.9\ntblib                                   1.7.0\ntenacity                                8.0.1\ntensorboard                             2.1.1\ntensorboard-data-server                 0.6.1\ntensorboard-plugin-wit                  1.8.0\ntensorboardX                            2.4\ntensorflow                              2.1.0\ntensorflow-estimator                    2.1.0\ntensorflow-gpu                          2.1.0\ntermcolor                               1.1.0\nterminado                               0.12.1\ntestpath                                0.5.0\ntextwrap3                               0.9.2\nthinc                                   7.0.8\nthreadpoolctl                           2.1.0\ntifffile                                2020.9.3\ntokenizers                              0.10.3\ntoml                                    0.10.2\ntoolz                                   0.11.1\ntorch                                   1.9.1\ntorch-tb-profiler                       0.2.1\ntorchvision                             0.9.1\ntornado                                 6.1\ntqdm                                    4.62.2\ntraitlets                               4.3.3\ntransformers                            4.5.1\ntyped-ast                               1.4.3\ntyping-extensions                       3.10.0.2\nujson                                   4.2.0\nurllib3                                 1.25.11\nuuid                                    1.30\nvsts                                    0.1.25\nvsts-cd-manager                         1.0.2\nwaitress                                2.0.0\nwasabi                                  0.8.2\nwcwidth                                 0.2.5\nwebencodings                            0.5.1\nwebsocket-client                        1.2.1\nwebsockets                              9.1\nWerkzeug                                1.0.1\nwheel                                   0.35.1\nwidgetsnbextension                      3.5.1\nwrapt                                   1.11.1\nxgboost                                 0.90\nxmltodict                               0.12.0\nxxhash                                  2.0.2\nyapf                                    0.31.0\nyarl                                    1.6.3\nzict                                    2.0.0\nzipp                                    3.5.0\nzope.event                              4.5.0\nzope.interface                          5.4.0\nNote: you may need to restart the kernel to use updated packages.\nCollecting scikit-learn==0.20.3\n  Downloading scikit_learn-0.20.3-cp36-cp36m-manylinux1_x86_64.whl (5.4 MB)\n\u001b[K     |████████████████████████████████| 5.4 MB 1.8 MB/s eta 0:00:01\n\u001b[?25hRequirement already satisfied: numpy>=1.8.2 in /anaconda/envs/azureml_py36/lib/python3.6/site-packages (from scikit-learn==0.20.3) (1.18.5)\nRequirement already satisfied: scipy>=0.13.3 in /anaconda/envs/azureml_py36/lib/python3.6/site-packages (from scikit-learn==0.20.3) (1.5.2)\n\u001b[31mERROR: seqeval 1.2.2 has requirement scikit-learn>=0.21.3, but you'll have scikit-learn 0.20.3 which is incompatible.\u001b[0m\n\u001b[31mERROR: responsibleai 0.7.0 has requirement scikit-learn>=0.22.1, but you'll have scikit-learn 0.20.3 which is incompatible.\u001b[0m\n\u001b[31mERROR: raiwidgets 0.7.0 has requirement jinja2==2.11.3, but you'll have jinja2 2.11.2 which is incompatible.\u001b[0m\n\u001b[31mERROR: raiwidgets 0.7.0 has requirement scikit-learn>=0.22.1, but you'll have scikit-learn 0.20.3 which is incompatible.\u001b[0m\n\u001b[31mERROR: fairlearn 0.7.0 has requirement scikit-learn>=0.22.1, but you'll have scikit-learn 0.20.3 which is incompatible.\u001b[0m\n\u001b[31mERROR: erroranalysis 0.1.20 has requirement scikit-learn>=0.22.1, but you'll have scikit-learn 0.20.3 which is incompatible.\u001b[0m\n\u001b[31mERROR: econml 0.12.0 has requirement scikit-learn>0.22.0, but you'll have scikit-learn 0.20.3 which is incompatible.\u001b[0m\n\u001b[31mERROR: azureml-responsibleai 1.34.0 has requirement responsibleai==0.9.4, but you'll have responsibleai 0.7.0 which is incompatible.\u001b[0m\n\u001b[31mERROR: azureml-automl-dnn-nlp 1.34.0 has requirement scikit-learn>=0.22.2, but you'll have scikit-learn 0.20.3 which is incompatible.\u001b[0m\n\u001b[31mERROR: autokeras 1.0.16 has requirement tensorflow<=2.5.0,>=2.3.0, but you'll have tensorflow 2.1.0 which is incompatible.\u001b[0m\nInstalling collected packages: scikit-learn\n  Attempting uninstall: scikit-learn\n    Found existing installation: scikit-learn 0.22.2.post1\n    Uninstalling scikit-learn-0.22.2.post1:\n      Successfully uninstalled scikit-learn-0.22.2.post1\nSuccessfully installed scikit-learn-0.20.3\nNote: you may need to restart the kernel to use updated packages.\n"
        }
      ],
      "execution_count": 1,
      "metadata": {
        "jupyter": {
          "source_hidden": false,
          "outputs_hidden": false
        },
        "nteract": {
          "transient": {
            "deleting": false
          }
        },
        "gather": {
          "logged": 1630812097699
        }
      }
    },
    {
      "cell_type": "code",
      "source": [
        "from azureml.opendatasets import NycTlcYellow\r\n",
        "from datetime import datetime\r\n",
        "from dateutil import parser\r\n",
        "\r\n",
        "start_date = parser.parse('2018-05-01')\r\n",
        "end_date = parser.parse('2018-05-07')\r\n",
        "nyc_tlc = NycTlcYellow(start_date=start_date, end_date=end_date)\r\n",
        "nyc_tlc_df = nyc_tlc.to_pandas_dataframe()\r\n",
        "nyc_tlc_df.info()"
      ],
      "outputs": [
        {
          "output_type": "stream",
          "name": "stdout",
          "text": "[Info] read from /tmp/tmpi13abr0c/https%3A/%2Fazureopendatastorage.azurefd.net/nyctlc/yellow/puYear=2018/puMonth=5/part-00000-tid-8898858832658823408-a1de80bd-eed3-4d11-b9d4-fa74bfbd47bc-426339-118.c000.snappy.parquet\n[Info] read from /tmp/tmpi13abr0c/https%3A/%2Fazureopendatastorage.azurefd.net/nyctlc/yellow/puYear=2018/puMonth=5/part-00001-tid-8898858832658823408-a1de80bd-eed3-4d11-b9d4-fa74bfbd47bc-426336-117.c000.snappy.parquet\n[Info] read from /tmp/tmpi13abr0c/https%3A/%2Fazureopendatastorage.azurefd.net/nyctlc/yellow/puYear=2018/puMonth=5/part-00002-tid-8898858832658823408-a1de80bd-eed3-4d11-b9d4-fa74bfbd47bc-426334-119.c000.snappy.parquet\n[Info] read from /tmp/tmpi13abr0c/https%3A/%2Fazureopendatastorage.azurefd.net/nyctlc/yellow/puYear=2018/puMonth=5/part-00003-tid-8898858832658823408-a1de80bd-eed3-4d11-b9d4-fa74bfbd47bc-426340-115.c000.snappy.parquet\n[Info] read from /tmp/tmpi13abr0c/https%3A/%2Fazureopendatastorage.azurefd.net/nyctlc/yellow/puYear=2018/puMonth=5/part-00004-tid-8898858832658823408-a1de80bd-eed3-4d11-b9d4-fa74bfbd47bc-426331-116.c000.snappy.parquet\n[Info] read from /tmp/tmpi13abr0c/https%3A/%2Fazureopendatastorage.azurefd.net/nyctlc/yellow/puYear=2018/puMonth=5/part-00005-tid-8898858832658823408-a1de80bd-eed3-4d11-b9d4-fa74bfbd47bc-426324-117.c000.snappy.parquet\n[Info] read from /tmp/tmpi13abr0c/https%3A/%2Fazureopendatastorage.azurefd.net/nyctlc/yellow/puYear=2018/puMonth=5/part-00006-tid-8898858832658823408-a1de80bd-eed3-4d11-b9d4-fa74bfbd47bc-426326-116.c000.snappy.parquet\n[Info] read from /tmp/tmpi13abr0c/https%3A/%2Fazureopendatastorage.azurefd.net/nyctlc/yellow/puYear=2018/puMonth=5/part-00007-tid-8898858832658823408-a1de80bd-eed3-4d11-b9d4-fa74bfbd47bc-426332-118.c000.snappy.parquet\n[Info] read from /tmp/tmpi13abr0c/https%3A/%2Fazureopendatastorage.azurefd.net/nyctlc/yellow/puYear=2018/puMonth=5/part-00008-tid-8898858832658823408-a1de80bd-eed3-4d11-b9d4-fa74bfbd47bc-426341-118.c000.snappy.parquet\n[Info] read from /tmp/tmpi13abr0c/https%3A/%2Fazureopendatastorage.azurefd.net/nyctlc/yellow/puYear=2018/puMonth=5/part-00009-tid-8898858832658823408-a1de80bd-eed3-4d11-b9d4-fa74bfbd47bc-426325-116.c000.snappy.parquet\n[Info] read from /tmp/tmpi13abr0c/https%3A/%2Fazureopendatastorage.azurefd.net/nyctlc/yellow/puYear=2018/puMonth=5/part-00010-tid-8898858832658823408-a1de80bd-eed3-4d11-b9d4-fa74bfbd47bc-426335-117.c000.snappy.parquet\n[Info] read from /tmp/tmpi13abr0c/https%3A/%2Fazureopendatastorage.azurefd.net/nyctlc/yellow/puYear=2018/puMonth=5/part-00011-tid-8898858832658823408-a1de80bd-eed3-4d11-b9d4-fa74bfbd47bc-426338-117.c000.snappy.parquet\n[Info] read from /tmp/tmpi13abr0c/https%3A/%2Fazureopendatastorage.azurefd.net/nyctlc/yellow/puYear=2018/puMonth=5/part-00012-tid-8898858832658823408-a1de80bd-eed3-4d11-b9d4-fa74bfbd47bc-426337-117.c000.snappy.parquet\n[Info] read from /tmp/tmpi13abr0c/https%3A/%2Fazureopendatastorage.azurefd.net/nyctlc/yellow/puYear=2018/puMonth=5/part-00013-tid-8898858832658823408-a1de80bd-eed3-4d11-b9d4-fa74bfbd47bc-426327-117.c000.snappy.parquet\n[Info] read from /tmp/tmpi13abr0c/https%3A/%2Fazureopendatastorage.azurefd.net/nyctlc/yellow/puYear=2018/puMonth=5/part-00014-tid-8898858832658823408-a1de80bd-eed3-4d11-b9d4-fa74bfbd47bc-426330-118.c000.snappy.parquet\n[Info] read from /tmp/tmpi13abr0c/https%3A/%2Fazureopendatastorage.azurefd.net/nyctlc/yellow/puYear=2018/puMonth=5/part-00015-tid-8898858832658823408-a1de80bd-eed3-4d11-b9d4-fa74bfbd47bc-426342-117.c000.snappy.parquet\n[Info] read from /tmp/tmpi13abr0c/https%3A/%2Fazureopendatastorage.azurefd.net/nyctlc/yellow/puYear=2018/puMonth=5/part-00016-tid-8898858832658823408-a1de80bd-eed3-4d11-b9d4-fa74bfbd47bc-426328-116.c000.snappy.parquet\n[Info] read from /tmp/tmpi13abr0c/https%3A/%2Fazureopendatastorage.azurefd.net/nyctlc/yellow/puYear=2018/puMonth=5/part-00017-tid-8898858832658823408-a1de80bd-eed3-4d11-b9d4-fa74bfbd47bc-426323-118.c000.snappy.parquet\n[Info] read from /tmp/tmpi13abr0c/https%3A/%2Fazureopendatastorage.azurefd.net/nyctlc/yellow/puYear=2018/puMonth=5/part-00018-tid-8898858832658823408-a1de80bd-eed3-4d11-b9d4-fa74bfbd47bc-426329-118.c000.snappy.parquet\n[Info] read from /tmp/tmpi13abr0c/https%3A/%2Fazureopendatastorage.azurefd.net/nyctlc/yellow/puYear=2018/puMonth=5/part-00019-tid-8898858832658823408-a1de80bd-eed3-4d11-b9d4-fa74bfbd47bc-426333-116.c000.snappy.parquet\n<class 'pandas.core.frame.DataFrame'>\nInt64Index: 1909118 entries, 12 to 405777\nData columns (total 21 columns):\nvendorID                object\ntpepPickupDateTime      datetime64[ns]\ntpepDropoffDateTime     datetime64[ns]\npassengerCount          int32\ntripDistance            float64\npuLocationId            object\ndoLocationId            object\nstartLon                float64\nstartLat                float64\nendLon                  float64\nendLat                  float64\nrateCodeId              int32\nstoreAndFwdFlag         object\npaymentType             object\nfareAmount              float64\nextra                   float64\nmtaTax                  float64\nimprovementSurcharge    object\ntipAmount               float64\ntollsAmount             float64\ntotalAmount             float64\ndtypes: datetime64[ns](2), float64(11), int32(2), object(6)\nmemory usage: 305.9+ MB\n"
        }
      ],
      "execution_count": 2,
      "metadata": {
        "gather": {
          "logged": 1634027820032
        }
      }
    },
    {
      "cell_type": "code",
      "source": [
        "from IPython.display import display\r\n",
        "\r\n",
        "sampled_df = nyc_tlc_df.sample(n=10000, random_state=123)\r\n",
        "display(sampled_df.head(5))"
      ],
      "outputs": [
        {
          "output_type": "display_data",
          "data": {
            "text/plain": "       vendorID  tpepPickupDateTime tpepDropoffDateTime  passengerCount  \\\n87213         2 2018-05-05 19:07:01 2018-05-05 19:28:44               1   \n145405        2 2018-05-05 22:46:06 2018-05-05 22:59:11               1   \n457648        1 2018-05-06 18:53:06 2018-05-06 19:06:31               1   \n369051        2 2018-05-02 09:25:13 2018-05-02 09:36:32               1   \n38871         2 2018-05-04 02:58:10 2018-05-04 03:01:10               3   \n\n        tripDistance puLocationId doLocationId  startLon  startLat  endLon  \\\n87213           3.95          164          112       NaN       NaN     NaN   \n145405          1.22          264          264       NaN       NaN     NaN   \n457648          2.20          246          162       NaN       NaN     NaN   \n369051          0.89          161          162       NaN       NaN     NaN   \n38871           0.45           79            4       NaN       NaN     NaN   \n\n        ...  rateCodeId  storeAndFwdFlag paymentType fareAmount  extra  \\\n87213   ...           1                N           2       17.0    0.0   \n145405  ...           1                N           1        9.5    0.5   \n457648  ...           1                N           2       11.0    0.0   \n369051  ...           1                N           1        8.0    0.0   \n38871   ...           1                N           1        4.0    0.5   \n\n        mtaTax  improvementSurcharge tipAmount  tollsAmount  totalAmount  \n87213      0.5                   0.3      0.00         5.76        23.56  \n145405     0.5                   0.3      2.16         0.00        12.96  \n457648     0.5                   0.3      0.00         0.00        11.80  \n369051     0.5                   0.3      1.76         0.00        10.56  \n38871      0.5                   0.3      1.32         0.00         6.62  \n\n[5 rows x 21 columns]",
            "text/html": "<div>\n<style scoped>\n    .dataframe tbody tr th:only-of-type {\n        vertical-align: middle;\n    }\n\n    .dataframe tbody tr th {\n        vertical-align: top;\n    }\n\n    .dataframe thead th {\n        text-align: right;\n    }\n</style>\n<table border=\"1\" class=\"dataframe\">\n  <thead>\n    <tr style=\"text-align: right;\">\n      <th></th>\n      <th>vendorID</th>\n      <th>tpepPickupDateTime</th>\n      <th>tpepDropoffDateTime</th>\n      <th>passengerCount</th>\n      <th>tripDistance</th>\n      <th>puLocationId</th>\n      <th>doLocationId</th>\n      <th>startLon</th>\n      <th>startLat</th>\n      <th>endLon</th>\n      <th>...</th>\n      <th>rateCodeId</th>\n      <th>storeAndFwdFlag</th>\n      <th>paymentType</th>\n      <th>fareAmount</th>\n      <th>extra</th>\n      <th>mtaTax</th>\n      <th>improvementSurcharge</th>\n      <th>tipAmount</th>\n      <th>tollsAmount</th>\n      <th>totalAmount</th>\n    </tr>\n  </thead>\n  <tbody>\n    <tr>\n      <th>87213</th>\n      <td>2</td>\n      <td>2018-05-05 19:07:01</td>\n      <td>2018-05-05 19:28:44</td>\n      <td>1</td>\n      <td>3.95</td>\n      <td>164</td>\n      <td>112</td>\n      <td>NaN</td>\n      <td>NaN</td>\n      <td>NaN</td>\n      <td>...</td>\n      <td>1</td>\n      <td>N</td>\n      <td>2</td>\n      <td>17.0</td>\n      <td>0.0</td>\n      <td>0.5</td>\n      <td>0.3</td>\n      <td>0.00</td>\n      <td>5.76</td>\n      <td>23.56</td>\n    </tr>\n    <tr>\n      <th>145405</th>\n      <td>2</td>\n      <td>2018-05-05 22:46:06</td>\n      <td>2018-05-05 22:59:11</td>\n      <td>1</td>\n      <td>1.22</td>\n      <td>264</td>\n      <td>264</td>\n      <td>NaN</td>\n      <td>NaN</td>\n      <td>NaN</td>\n      <td>...</td>\n      <td>1</td>\n      <td>N</td>\n      <td>1</td>\n      <td>9.5</td>\n      <td>0.5</td>\n      <td>0.5</td>\n      <td>0.3</td>\n      <td>2.16</td>\n      <td>0.00</td>\n      <td>12.96</td>\n    </tr>\n    <tr>\n      <th>457648</th>\n      <td>1</td>\n      <td>2018-05-06 18:53:06</td>\n      <td>2018-05-06 19:06:31</td>\n      <td>1</td>\n      <td>2.20</td>\n      <td>246</td>\n      <td>162</td>\n      <td>NaN</td>\n      <td>NaN</td>\n      <td>NaN</td>\n      <td>...</td>\n      <td>1</td>\n      <td>N</td>\n      <td>2</td>\n      <td>11.0</td>\n      <td>0.0</td>\n      <td>0.5</td>\n      <td>0.3</td>\n      <td>0.00</td>\n      <td>0.00</td>\n      <td>11.80</td>\n    </tr>\n    <tr>\n      <th>369051</th>\n      <td>2</td>\n      <td>2018-05-02 09:25:13</td>\n      <td>2018-05-02 09:36:32</td>\n      <td>1</td>\n      <td>0.89</td>\n      <td>161</td>\n      <td>162</td>\n      <td>NaN</td>\n      <td>NaN</td>\n      <td>NaN</td>\n      <td>...</td>\n      <td>1</td>\n      <td>N</td>\n      <td>1</td>\n      <td>8.0</td>\n      <td>0.0</td>\n      <td>0.5</td>\n      <td>0.3</td>\n      <td>1.76</td>\n      <td>0.00</td>\n      <td>10.56</td>\n    </tr>\n    <tr>\n      <th>38871</th>\n      <td>2</td>\n      <td>2018-05-04 02:58:10</td>\n      <td>2018-05-04 03:01:10</td>\n      <td>3</td>\n      <td>0.45</td>\n      <td>79</td>\n      <td>4</td>\n      <td>NaN</td>\n      <td>NaN</td>\n      <td>NaN</td>\n      <td>...</td>\n      <td>1</td>\n      <td>N</td>\n      <td>1</td>\n      <td>4.0</td>\n      <td>0.5</td>\n      <td>0.5</td>\n      <td>0.3</td>\n      <td>1.32</td>\n      <td>0.00</td>\n      <td>6.62</td>\n    </tr>\n  </tbody>\n</table>\n<p>5 rows × 21 columns</p>\n</div>"
          },
          "metadata": {}
        }
      ],
      "execution_count": 3,
      "metadata": {
        "jupyter": {
          "source_hidden": false,
          "outputs_hidden": false
        },
        "nteract": {
          "transient": {
            "deleting": false
          }
        },
        "gather": {
          "logged": 1634027820213
        },
        "collapsed": true
      }
    },
    {
      "cell_type": "markdown",
      "source": [
        "## Prepare and featurize data\r\n",
        "- There are extra dimensions that are not going to be useful in the model. We just take the dimensions that we need and put them into the featurised dataframe. \r\n",
        "- There are also a bunch of outliers in the data so we need to filter them out."
      ],
      "metadata": {
        "nteract": {
          "transient": {
            "deleting": false
          }
        }
      }
    },
    {
      "cell_type": "code",
      "source": [
        "import numpy\r\n",
        "import pandas\r\n",
        "\r\n",
        "def get_pickup_time(df):\r\n",
        "    pickupHour = df['pickupHour'];\r\n",
        "    if ((pickupHour >= 7) & (pickupHour <= 10)):\r\n",
        "        return 'AMRush'\r\n",
        "    elif ((pickupHour >= 11) & (pickupHour <= 15)):\r\n",
        "        return 'Afternoon'\r\n",
        "    elif ((pickupHour >= 16) & (pickupHour <= 19)):\r\n",
        "        return 'PMRush'\r\n",
        "    else:\r\n",
        "        return 'Night'\r\n",
        "\r\n",
        "featurized_df = pandas.DataFrame()\r\n",
        "featurized_df['tipped'] = (sampled_df['tipAmount'] > 0).astype('int')\r\n",
        "featurized_df['fareAmount'] = sampled_df['fareAmount'].astype('float32')\r\n",
        "featurized_df['paymentType'] = sampled_df['paymentType'].astype('int')\r\n",
        "featurized_df['passengerCount'] = sampled_df['passengerCount'].astype('int')\r\n",
        "featurized_df['tripDistance'] = sampled_df['tripDistance'].astype('float32')\r\n",
        "featurized_df['pickupHour'] = sampled_df['tpepPickupDateTime'].dt.hour.astype('int')\r\n",
        "featurized_df['tripTimeSecs'] = ((sampled_df['tpepDropoffDateTime'] - sampled_df['tpepPickupDateTime']) / numpy.timedelta64(1, 's')).astype('int')\r\n",
        "\r\n",
        "featurized_df['pickupTimeBin'] = featurized_df.apply(get_pickup_time, axis=1)\r\n",
        "featurized_df = featurized_df.drop(columns='pickupHour')\r\n",
        "\r\n",
        "display(featurized_df.head(5))\r\n"
      ],
      "outputs": [
        {
          "output_type": "display_data",
          "data": {
            "text/plain": "        tipped  fareAmount  paymentType  passengerCount  tripDistance  \\\n87213        0        17.0            2               1          3.95   \n145405       1         9.5            1               1          1.22   \n457648       0        11.0            2               1          2.20   \n369051       1         8.0            1               1          0.89   \n38871        1         4.0            1               3          0.45   \n\n        tripTimeSecs pickupTimeBin  \n87213           1303        PMRush  \n145405           785         Night  \n457648           805        PMRush  \n369051           679        AMRush  \n38871            180         Night  ",
            "text/html": "<div>\n<style scoped>\n    .dataframe tbody tr th:only-of-type {\n        vertical-align: middle;\n    }\n\n    .dataframe tbody tr th {\n        vertical-align: top;\n    }\n\n    .dataframe thead th {\n        text-align: right;\n    }\n</style>\n<table border=\"1\" class=\"dataframe\">\n  <thead>\n    <tr style=\"text-align: right;\">\n      <th></th>\n      <th>tipped</th>\n      <th>fareAmount</th>\n      <th>paymentType</th>\n      <th>passengerCount</th>\n      <th>tripDistance</th>\n      <th>tripTimeSecs</th>\n      <th>pickupTimeBin</th>\n    </tr>\n  </thead>\n  <tbody>\n    <tr>\n      <th>87213</th>\n      <td>0</td>\n      <td>17.0</td>\n      <td>2</td>\n      <td>1</td>\n      <td>3.95</td>\n      <td>1303</td>\n      <td>PMRush</td>\n    </tr>\n    <tr>\n      <th>145405</th>\n      <td>1</td>\n      <td>9.5</td>\n      <td>1</td>\n      <td>1</td>\n      <td>1.22</td>\n      <td>785</td>\n      <td>Night</td>\n    </tr>\n    <tr>\n      <th>457648</th>\n      <td>0</td>\n      <td>11.0</td>\n      <td>2</td>\n      <td>1</td>\n      <td>2.20</td>\n      <td>805</td>\n      <td>PMRush</td>\n    </tr>\n    <tr>\n      <th>369051</th>\n      <td>1</td>\n      <td>8.0</td>\n      <td>1</td>\n      <td>1</td>\n      <td>0.89</td>\n      <td>679</td>\n      <td>AMRush</td>\n    </tr>\n    <tr>\n      <th>38871</th>\n      <td>1</td>\n      <td>4.0</td>\n      <td>1</td>\n      <td>3</td>\n      <td>0.45</td>\n      <td>180</td>\n      <td>Night</td>\n    </tr>\n  </tbody>\n</table>\n</div>"
          },
          "metadata": {}
        }
      ],
      "execution_count": 4,
      "metadata": {
        "jupyter": {
          "source_hidden": false,
          "outputs_hidden": false
        },
        "nteract": {
          "transient": {
            "deleting": false
          }
        },
        "gather": {
          "logged": 1634027820446
        },
        "collapsed": true
      }
    },
    {
      "cell_type": "code",
      "source": [
        "filtered_df = featurized_df[(featurized_df.tipped >= 0) & (featurized_df.tipped <= 1)\\\r\n",
        "    & (featurized_df.fareAmount >= 1) & (featurized_df.fareAmount <= 250)\\\r\n",
        "    & (featurized_df.paymentType >= 1) & (featurized_df.paymentType <= 2)\\\r\n",
        "    & (featurized_df.passengerCount > 0) & (featurized_df.passengerCount < 8)\\\r\n",
        "    & (featurized_df.tripDistance >= 0) & (featurized_df.tripDistance <= 100)\\\r\n",
        "    & (featurized_df.tripTimeSecs >= 30) & (featurized_df.tripTimeSecs <= 7200)]\r\n",
        "\r\n",
        "filtered_df.info()"
      ],
      "outputs": [
        {
          "output_type": "stream",
          "name": "stdout",
          "text": "<class 'pandas.core.frame.DataFrame'>\nInt64Index: 9776 entries, 87213 to 333274\nData columns (total 7 columns):\ntipped            9776 non-null int64\nfareAmount        9776 non-null float32\npaymentType       9776 non-null int64\npassengerCount    9776 non-null int64\ntripDistance      9776 non-null float32\ntripTimeSecs      9776 non-null int64\npickupTimeBin     9776 non-null object\ndtypes: float32(2), int64(4), object(1)\nmemory usage: 534.6+ KB\n"
        }
      ],
      "execution_count": 5,
      "metadata": {
        "jupyter": {
          "source_hidden": false,
          "outputs_hidden": false
        },
        "nteract": {
          "transient": {
            "deleting": false
          }
        },
        "gather": {
          "logged": 1634027820599
        },
        "collapsed": true
      }
    },
    {
      "cell_type": "markdown",
      "source": [
        "## Split training and testing data sets\r\n",
        "- 70% of the data is used to train the model.\r\n",
        "- 30% of the data is used to test the model."
      ],
      "metadata": {
        "nteract": {
          "transient": {
            "deleting": false
          }
        }
      }
    },
    {
      "cell_type": "code",
      "source": [
        "from sklearn.model_selection import train_test_split\r\n",
        "\r\n",
        "train_df, test_df = train_test_split(filtered_df, test_size=0.3, random_state=123)\r\n",
        "\r\n",
        "x_train = pandas.DataFrame(train_df.drop(['tipped'], axis = 1))\r\n",
        "y_train = pandas.DataFrame(train_df.iloc[:,train_df.columns.tolist().index('tipped')])\r\n",
        "\r\n",
        "x_test = pandas.DataFrame(test_df.drop(['tipped'], axis = 1))\r\n",
        "y_test = pandas.DataFrame(test_df.iloc[:,test_df.columns.tolist().index('tipped')])"
      ],
      "outputs": [],
      "execution_count": 6,
      "metadata": {
        "jupyter": {
          "source_hidden": false,
          "outputs_hidden": false
        },
        "nteract": {
          "transient": {
            "deleting": false
          }
        },
        "gather": {
          "logged": 1634027821684
        },
        "collapsed": true
      }
    },
    {
      "cell_type": "markdown",
      "source": [
        "## Export test data as CSV\r\n",
        "Export the test data as a CSV file. Later, we will load the CSV file into Synapse SQL pool to test the model."
      ],
      "metadata": {
        "nteract": {
          "transient": {
            "deleting": false
          }
        }
      }
    },
    {
      "cell_type": "code",
      "source": [
        "test_df.to_csv('test_data.csv', index=False)"
      ],
      "outputs": [],
      "execution_count": 7,
      "metadata": {
        "jupyter": {
          "source_hidden": false,
          "outputs_hidden": false
        },
        "nteract": {
          "transient": {
            "deleting": false
          }
        },
        "gather": {
          "logged": 1634027821820
        },
        "collapsed": true
      }
    },
    {
      "cell_type": "markdown",
      "source": [
        "## Train model\r\n",
        "Train a bi-classifier to predict whether a taxi trip will be a tipped or not."
      ],
      "metadata": {
        "nteract": {
          "transient": {
            "deleting": false
          }
        }
      }
    },
    {
      "cell_type": "code",
      "source": [
        "from sklearn.compose import ColumnTransformer\r\n",
        "from sklearn.linear_model import LogisticRegression\r\n",
        "from sklearn.pipeline import Pipeline\r\n",
        "from sklearn.impute import SimpleImputer\r\n",
        "from sklearn.preprocessing import StandardScaler, OneHotEncoder\r\n",
        "\r\n",
        "float_features = ['fareAmount', 'tripDistance']\r\n",
        "float_transformer = Pipeline(steps=[\r\n",
        "    ('imputer', SimpleImputer(strategy='median')),\r\n",
        "    ('scaler', StandardScaler())])\r\n",
        "\r\n",
        "integer_features = ['paymentType', 'passengerCount', 'tripTimeSecs']\r\n",
        "integer_transformer = Pipeline(steps=[\r\n",
        "    ('imputer', SimpleImputer(strategy='median')),\r\n",
        "    ('scaler', StandardScaler())])\r\n",
        "\r\n",
        "categorical_features = ['pickupTimeBin']\r\n",
        "categorical_transformer = Pipeline(steps=[\r\n",
        "    ('onehot', OneHotEncoder(handle_unknown='ignore'))])\r\n",
        "\r\n",
        "preprocessor = ColumnTransformer(\r\n",
        "    transformers=[\r\n",
        "        ('float', float_transformer, float_features),\r\n",
        "        ('integer', integer_transformer, integer_features),\r\n",
        "        ('cat', categorical_transformer, categorical_features)\r\n",
        "    ])\r\n",
        "\r\n",
        "clf = Pipeline(steps=[('preprocessor', preprocessor),\r\n",
        "                      ('classifier', LogisticRegression(solver='lbfgs'))])\r\n",
        "\r\n",
        "# Train the model\r\n",
        "clf.fit(x_train, y_train)"
      ],
      "outputs": [
        {
          "output_type": "stream",
          "name": "stderr",
          "text": "/anaconda/envs/azureml_py36/lib/python3.6/site-packages/sklearn/utils/validation.py:761: DataConversionWarning: A column-vector y was passed when a 1d array was expected. Please change the shape of y to (n_samples, ), for example using ravel().\n  y = column_or_1d(y, warn=True)\n"
        },
        {
          "output_type": "execute_result",
          "execution_count": 8,
          "data": {
            "text/plain": "Pipeline(memory=None,\n     steps=[('preprocessor', ColumnTransformer(n_jobs=None, remainder='drop', sparse_threshold=0.3,\n         transformer_weights=None,\n         transformers=[('float', Pipeline(memory=None,\n     steps=[('imputer', SimpleImputer(copy=True, fill_value=None, missing_values=nan,\n       strategy='median', ver...enalty='l2', random_state=None, solver='lbfgs',\n          tol=0.0001, verbose=0, warm_start=False))])"
          },
          "metadata": {}
        }
      ],
      "execution_count": 8,
      "metadata": {
        "jupyter": {
          "source_hidden": false,
          "outputs_hidden": false
        },
        "nteract": {
          "transient": {
            "deleting": false
          }
        },
        "gather": {
          "logged": 1634027821971
        },
        "collapsed": true
      }
    },
    {
      "cell_type": "code",
      "source": [
        "# Evalute the model\r\n",
        "score = clf.score(x_test, y_test)\r\n",
        "print(score)"
      ],
      "outputs": [
        {
          "output_type": "stream",
          "name": "stdout",
          "text": "0.9672690078418003\n"
        }
      ],
      "execution_count": 9,
      "metadata": {
        "jupyter": {
          "source_hidden": false,
          "outputs_hidden": false
        },
        "nteract": {
          "transient": {
            "deleting": false
          }
        },
        "gather": {
          "logged": 1634027822105
        },
        "collapsed": true
      }
    },
    {
      "cell_type": "markdown",
      "source": [
        "## Convert the model to ONNX format\r\n",
        "Currently, T-SQL scoring only supports ONNX model format (https://onnx.ai/)."
      ],
      "metadata": {
        "nteract": {
          "transient": {
            "deleting": false
          }
        }
      }
    },
    {
      "cell_type": "code",
      "source": [
        "from skl2onnx import convert_sklearn\r\n",
        "from skl2onnx.common.data_types import FloatTensorType, Int64TensorType, DoubleTensorType, StringTensorType\r\n",
        "\r\n",
        "def convert_dataframe_schema(df, drop=None):\r\n",
        "    inputs = []\r\n",
        "    for k, v in zip(df.columns, df.dtypes):\r\n",
        "        if drop is not None and k in drop:\r\n",
        "            continue\r\n",
        "        if v == 'int64':\r\n",
        "            t = Int64TensorType([1, 1])\r\n",
        "        elif v == 'float32':\r\n",
        "            t = FloatTensorType([1, 1])\r\n",
        "        elif v == 'float64':\r\n",
        "            t = DoubleTensorType([1, 1])\r\n",
        "        else:\r\n",
        "            t = StringTensorType([1, 1])\r\n",
        "        inputs.append((k, t))\r\n",
        "    return inputs\r\n",
        "\r\n",
        "model_inputs = convert_dataframe_schema(x_train)\r\n",
        "onnx_model = convert_sklearn(clf, \"nyc_taxi_tip_predict\", model_inputs)"
      ],
      "outputs": [
        {
          "output_type": "stream",
          "name": "stderr",
          "text": "The maximum opset needed by this model is only 1.\nThe maximum opset needed by this model is only 11.\n"
        }
      ],
      "execution_count": 10,
      "metadata": {
        "jupyter": {
          "source_hidden": false,
          "outputs_hidden": false
        },
        "nteract": {
          "transient": {
            "deleting": false
          }
        },
        "gather": {
          "logged": 1634027822692
        },
        "collapsed": true
      }
    },
    {
      "cell_type": "markdown",
      "source": [
        "## Register the model with MLFlow"
      ],
      "metadata": {
        "nteract": {
          "transient": {
            "deleting": false
          }
        }
      }
    },
    {
      "cell_type": "code",
      "source": [
        "from azureml.core import Workspace\r\n",
        "\r\n",
        "ws = Workspace.from_config()\r\n",
        "print(ws.name, ws.resource_group, ws.location, ws.subscription_id, sep='\\n')"
      ],
      "outputs": [
        {
          "output_type": "stream",
          "name": "stdout",
          "text": "mzcmlworkspace\nmzc-rg\nkoreacentral\nc53bdcf6-8fac-491b-8692-9195df094803\n"
        }
      ],
      "execution_count": 11,
      "metadata": {
        "jupyter": {
          "source_hidden": false,
          "outputs_hidden": false
        },
        "nteract": {
          "transient": {
            "deleting": false
          }
        },
        "gather": {
          "logged": 1634027823540
        },
        "collapsed": true
      }
    },
    {
      "cell_type": "code",
      "source": [
        "import mlflow\r\n",
        "import mlflow.onnx\r\n",
        "\r\n",
        "from mlflow.models.signature import infer_signature\r\n",
        "\r\n",
        "experiment_name = 'nyc_taxi_tip_predict_exp'\r\n",
        "artifact_path = 'nyc_taxi_tip_predict_artifact'\r\n",
        "\r\n",
        "mlflow.set_tracking_uri(ws.get_mlflow_tracking_uri())\r\n",
        "mlflow.set_experiment(experiment_name)\r\n",
        "\r\n",
        "with mlflow.start_run() as run:\r\n",
        "    # Infer signature\r\n",
        "    input_sample = x_train.head(1)\r\n",
        "    output_sample = pandas.DataFrame(columns=['output_label'], data=[1])\r\n",
        "    signature = infer_signature(input_sample, output_sample)\r\n",
        "\r\n",
        "    # Save the model to the outputs directory for capture\r\n",
        "    mlflow.onnx.log_model(onnx_model, artifact_path, signature=signature, input_example=input_sample)\r\n",
        "\r\n",
        "    # Register the model to AML model registry\r\n",
        "    mlflow.register_model('runs:/' + run.info.run_id + '/' + artifact_path, 'nyc_taxi_tip_predict')\r\n"
      ],
      "outputs": [
        {
          "output_type": "stream",
          "name": "stdout",
          "text": "INFO: 'nyc_taxi_tip_predict_exp' does not exist. Creating a new experiment\n"
        },
        {
          "output_type": "stream",
          "name": "stderr",
          "text": "/anaconda/envs/azureml_py36/lib/python3.6/site-packages/mlflow/models/signature.py:129: UserWarning: Hint: Inferred schema contains integer column(s). Integer columns in Python cannot represent missing values. If your input data contains missing values at inference time, it will be encoded as floats and will cause a schema enforcement error. The best way to avoid this problem is to infer the model schema based on a realistic data sample (training dataset) that includes missing values. Alternatively, you can declare integer columns as doubles (float64) whenever these columns may have missing values. See `Handling Integers With Missing Values <https://www.mlflow.org/docs/latest/models.html#handling-integers-with-missing-values>`_ for more details.\n  inputs = _infer_schema(model_input)\n/anaconda/envs/azureml_py36/lib/python3.6/site-packages/mlflow/models/signature.py:130: UserWarning: Hint: Inferred schema contains integer column(s). Integer columns in Python cannot represent missing values. If your input data contains missing values at inference time, it will be encoded as floats and will cause a schema enforcement error. The best way to avoid this problem is to infer the model schema based on a realistic data sample (training dataset) that includes missing values. Alternatively, you can declare integer columns as doubles (float64) whenever these columns may have missing values. See `Handling Integers With Missing Values <https://www.mlflow.org/docs/latest/models.html#handling-integers-with-missing-values>`_ for more details.\n  outputs = _infer_schema(model_output) if model_output is not None else None\nSuccessfully registered model 'nyc_taxi_tip_predict'.\n2021/10/12 08:37:15 INFO mlflow.tracking._model_registry.client: Waiting up to 300 seconds for model version to finish creation.                     Model name: nyc_taxi_tip_predict, version 1\nCreated version '1' of model 'nyc_taxi_tip_predict'.\n"
        }
      ],
      "execution_count": 12,
      "metadata": {
        "jupyter": {
          "source_hidden": false,
          "outputs_hidden": false
        },
        "nteract": {
          "transient": {
            "deleting": false
          }
        },
        "gather": {
          "logged": 1634027835621
        },
        "collapsed": true
      }
    }
  ],
  "metadata": {
    "kernelspec": {
      "name": "python3-azureml",
      "language": "python",
      "display_name": "Python 3.6 - AzureML"
    },
    "language_info": {
      "name": "python",
      "version": "3.6.9",
      "mimetype": "text/x-python",
      "codemirror_mode": {
        "name": "ipython",
        "version": 3
      },
      "pygments_lexer": "ipython3",
      "nbconvert_exporter": "python",
      "file_extension": ".py"
    },
    "kernel_info": {
      "name": "python3-azureml"
    },
    "save_output": false,
    "synapse_widget": {
      "version": "0.1",
      "state": {}
    },
    "microsoft": {
      "host": {
        "AzureML": {
          "notebookHasBeenCompleted": true
        }
      }
    },
    "nteract": {
      "version": "nteract-front-end@1.0.0"
    }
  },
  "nbformat": 4,
  "nbformat_minor": 2
}