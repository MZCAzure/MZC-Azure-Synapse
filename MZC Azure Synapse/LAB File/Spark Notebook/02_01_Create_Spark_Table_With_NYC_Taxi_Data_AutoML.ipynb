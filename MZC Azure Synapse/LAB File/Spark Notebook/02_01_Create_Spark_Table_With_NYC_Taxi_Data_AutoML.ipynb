{
  "cells": [
    {
      "cell_type": "markdown",
      "source": [
        "## Load data\r\n",
        "Get a sample data of nyc yellow taxi from Azure Open Datasets"
      ],
      "metadata": {
        "nteract": {
          "transient": {
            "deleting": false
          }
        }
      }
    },
    {
      "cell_type": "code",
      "source": [
        "from azureml.opendatasets import NycTlcYellow\r\n",
        "from datetime import datetime\r\n",
        "from dateutil import parser\r\n",
        "\r\n",
        "start_date = parser.parse('2018-05-01')\r\n",
        "end_date = parser.parse('2018-05-07')\r\n",
        "nyc_tlc = NycTlcYellow(start_date=start_date, end_date=end_date)\r\n",
        "nyc_tlc_df = nyc_tlc.to_pandas_dataframe()\r\n",
        "nyc_tlc_df.info()"
      ],
      "outputs": [
        {
          "output_type": "display_data",
          "data": {
            "application/vnd.livy.statement-meta+json": {
              "spark_pool": "sparkpool",
              "session_id": 3,
              "statement_id": 1,
              "state": "finished",
              "livy_statement_state": "available",
              "queued_time": "2021-10-12T07:30:33.8729555Z",
              "session_start_time": "2021-10-12T07:30:33.9034804Z",
              "execution_start_time": "2021-10-12T07:31:43.2331487Z",
              "execution_finish_time": "2021-10-12T07:32:24.5304523Z"
            },
            "text/plain": "StatementMeta(sparkpool, 3, 1, Finished, Available)"
          },
          "metadata": {}
        },
        {
          "output_type": "stream",
          "name": "stdout",
          "text": [
            "[Info] read from /tmp/tmpx7udqyqq/https%3A/%2Fazureopendatastorage.azurefd.net/nyctlc/yellow/puYear=2018/puMonth=5/part-00000-tid-8898858832658823408-a1de80bd-eed3-4d11-b9d4-fa74bfbd47bc-426339-118.c000.snappy.parquet\n[Info] read from /tmp/tmpx7udqyqq/https%3A/%2Fazureopendatastorage.azurefd.net/nyctlc/yellow/puYear=2018/puMonth=5/part-00001-tid-8898858832658823408-a1de80bd-eed3-4d11-b9d4-fa74bfbd47bc-426336-117.c000.snappy.parquet\n[Info] read from /tmp/tmpx7udqyqq/https%3A/%2Fazureopendatastorage.azurefd.net/nyctlc/yellow/puYear=2018/puMonth=5/part-00002-tid-8898858832658823408-a1de80bd-eed3-4d11-b9d4-fa74bfbd47bc-426334-119.c000.snappy.parquet\n[Info] read from /tmp/tmpx7udqyqq/https%3A/%2Fazureopendatastorage.azurefd.net/nyctlc/yellow/puYear=2018/puMonth=5/part-00003-tid-8898858832658823408-a1de80bd-eed3-4d11-b9d4-fa74bfbd47bc-426340-115.c000.snappy.parquet\n[Info] read from /tmp/tmpx7udqyqq/https%3A/%2Fazureopendatastorage.azurefd.net/nyctlc/yellow/puYear=2018/puMonth=5/part-00004-tid-8898858832658823408-a1de80bd-eed3-4d11-b9d4-fa74bfbd47bc-426331-116.c000.snappy.parquet\n[Info] read from /tmp/tmpx7udqyqq/https%3A/%2Fazureopendatastorage.azurefd.net/nyctlc/yellow/puYear=2018/puMonth=5/part-00005-tid-8898858832658823408-a1de80bd-eed3-4d11-b9d4-fa74bfbd47bc-426324-117.c000.snappy.parquet\n[Info] read from /tmp/tmpx7udqyqq/https%3A/%2Fazureopendatastorage.azurefd.net/nyctlc/yellow/puYear=2018/puMonth=5/part-00006-tid-8898858832658823408-a1de80bd-eed3-4d11-b9d4-fa74bfbd47bc-426326-116.c000.snappy.parquet\n[Info] read from /tmp/tmpx7udqyqq/https%3A/%2Fazureopendatastorage.azurefd.net/nyctlc/yellow/puYear=2018/puMonth=5/part-00007-tid-8898858832658823408-a1de80bd-eed3-4d11-b9d4-fa74bfbd47bc-426332-118.c000.snappy.parquet\n[Info] read from /tmp/tmpx7udqyqq/https%3A/%2Fazureopendatastorage.azurefd.net/nyctlc/yellow/puYear=2018/puMonth=5/part-00008-tid-8898858832658823408-a1de80bd-eed3-4d11-b9d4-fa74bfbd47bc-426341-118.c000.snappy.parquet\n[Info] read from /tmp/tmpx7udqyqq/https%3A/%2Fazureopendatastorage.azurefd.net/nyctlc/yellow/puYear=2018/puMonth=5/part-00009-tid-8898858832658823408-a1de80bd-eed3-4d11-b9d4-fa74bfbd47bc-426325-116.c000.snappy.parquet\n[Info] read from /tmp/tmpx7udqyqq/https%3A/%2Fazureopendatastorage.azurefd.net/nyctlc/yellow/puYear=2018/puMonth=5/part-00010-tid-8898858832658823408-a1de80bd-eed3-4d11-b9d4-fa74bfbd47bc-426335-117.c000.snappy.parquet\n[Info] read from /tmp/tmpx7udqyqq/https%3A/%2Fazureopendatastorage.azurefd.net/nyctlc/yellow/puYear=2018/puMonth=5/part-00011-tid-8898858832658823408-a1de80bd-eed3-4d11-b9d4-fa74bfbd47bc-426338-117.c000.snappy.parquet\n[Info] read from /tmp/tmpx7udqyqq/https%3A/%2Fazureopendatastorage.azurefd.net/nyctlc/yellow/puYear=2018/puMonth=5/part-00012-tid-8898858832658823408-a1de80bd-eed3-4d11-b9d4-fa74bfbd47bc-426337-117.c000.snappy.parquet\n[Info] read from /tmp/tmpx7udqyqq/https%3A/%2Fazureopendatastorage.azurefd.net/nyctlc/yellow/puYear=2018/puMonth=5/part-00013-tid-8898858832658823408-a1de80bd-eed3-4d11-b9d4-fa74bfbd47bc-426327-117.c000.snappy.parquet\n[Info] read from /tmp/tmpx7udqyqq/https%3A/%2Fazureopendatastorage.azurefd.net/nyctlc/yellow/puYear=2018/puMonth=5/part-00014-tid-8898858832658823408-a1de80bd-eed3-4d11-b9d4-fa74bfbd47bc-426330-118.c000.snappy.parquet\n[Info] read from /tmp/tmpx7udqyqq/https%3A/%2Fazureopendatastorage.azurefd.net/nyctlc/yellow/puYear=2018/puMonth=5/part-00015-tid-8898858832658823408-a1de80bd-eed3-4d11-b9d4-fa74bfbd47bc-426342-117.c000.snappy.parquet\n[Info] read from /tmp/tmpx7udqyqq/https%3A/%2Fazureopendatastorage.azurefd.net/nyctlc/yellow/puYear=2018/puMonth=5/part-00016-tid-8898858832658823408-a1de80bd-eed3-4d11-b9d4-fa74bfbd47bc-426328-116.c000.snappy.parquet\n[Info] read from /tmp/tmpx7udqyqq/https%3A/%2Fazureopendatastorage.azurefd.net/nyctlc/yellow/puYear=2018/puMonth=5/part-00017-tid-8898858832658823408-a1de80bd-eed3-4d11-b9d4-fa74bfbd47bc-426323-118.c000.snappy.parquet\n[Info] read from /tmp/tmpx7udqyqq/https%3A/%2Fazureopendatastorage.azurefd.net/nyctlc/yellow/puYear=2018/puMonth=5/part-00018-tid-8898858832658823408-a1de80bd-eed3-4d11-b9d4-fa74bfbd47bc-426329-118.c000.snappy.parquet\n[Info] read from /tmp/tmpx7udqyqq/https%3A/%2Fazureopendatastorage.azurefd.net/nyctlc/yellow/puYear=2018/puMonth=5/part-00019-tid-8898858832658823408-a1de80bd-eed3-4d11-b9d4-fa74bfbd47bc-426333-116.c000.snappy.parquet\n<class 'pandas.core.frame.DataFrame'>\nInt64Index: 1909118 entries, 12 to 405777\nData columns (total 23 columns):\nvendorID                object\ntpepPickupDateTime      datetime64[ns]\ntpepDropoffDateTime     datetime64[ns]\npassengerCount          int32\ntripDistance            float64\npuLocationId            object\ndoLocationId            object\nstartLon                float64\nstartLat                float64\nendLon                  float64\nendLat                  float64\nrateCodeId              int32\nstoreAndFwdFlag         object\npaymentType             object\nfareAmount              float64\nextra                   float64\nmtaTax                  float64\nimprovementSurcharge    object\ntipAmount               float64\ntollsAmount             float64\ntotalAmount             float64\npuYear                  int32\npuMonth                 int32\ndtypes: datetime64[ns](2), float64(11), int32(4), object(6)\nmemory usage: 320.4+ MB"
          ]
        }
      ],
      "execution_count": 1,
      "metadata": {}
    },
    {
      "cell_type": "code",
      "source": [
        "from IPython.display import display\r\n",
        "\r\n",
        "sampled_df = nyc_tlc_df.sample(n=10000, random_state=123)\r\n",
        "display(sampled_df.head(5))"
      ],
      "outputs": [
        {
          "output_type": "display_data",
          "data": {
            "application/vnd.livy.statement-meta+json": {
              "spark_pool": "sparkpool",
              "session_id": 3,
              "statement_id": 2,
              "state": "finished",
              "livy_statement_state": "available",
              "queued_time": "2021-10-12T07:32:41.6322399Z",
              "session_start_time": null,
              "execution_start_time": "2021-10-12T07:32:41.7276162Z",
              "execution_finish_time": "2021-10-12T07:32:41.8734937Z"
            },
            "text/plain": "StatementMeta(sparkpool, 3, 2, Finished, Available)"
          },
          "metadata": {}
        },
        {
          "output_type": "display_data",
          "data": {
            "text/plain": "       vendorID  tpepPickupDateTime  ... puYear  puMonth\n87213         2 2018-05-05 19:07:01  ...   2018        5\n145405        2 2018-05-05 22:46:06  ...   2018        5\n457648        1 2018-05-06 18:53:06  ...   2018        5\n369051        2 2018-05-02 09:25:13  ...   2018        5\n38871         2 2018-05-04 02:58:10  ...   2018        5\n\n[5 rows x 23 columns]",
            "text/html": "<div>\n<style scoped>\n    .dataframe tbody tr th:only-of-type {\n        vertical-align: middle;\n    }\n\n    .dataframe tbody tr th {\n        vertical-align: top;\n    }\n\n    .dataframe thead th {\n        text-align: right;\n    }\n</style>\n<table border=\"1\" class=\"dataframe\">\n  <thead>\n    <tr style=\"text-align: right;\">\n      <th></th>\n      <th>vendorID</th>\n      <th>tpepPickupDateTime</th>\n      <th>tpepDropoffDateTime</th>\n      <th>passengerCount</th>\n      <th>tripDistance</th>\n      <th>puLocationId</th>\n      <th>doLocationId</th>\n      <th>startLon</th>\n      <th>startLat</th>\n      <th>endLon</th>\n      <th>endLat</th>\n      <th>rateCodeId</th>\n      <th>storeAndFwdFlag</th>\n      <th>paymentType</th>\n      <th>fareAmount</th>\n      <th>extra</th>\n      <th>mtaTax</th>\n      <th>improvementSurcharge</th>\n      <th>tipAmount</th>\n      <th>tollsAmount</th>\n      <th>totalAmount</th>\n      <th>puYear</th>\n      <th>puMonth</th>\n    </tr>\n  </thead>\n  <tbody>\n    <tr>\n      <th>87213</th>\n      <td>2</td>\n      <td>2018-05-05 19:07:01</td>\n      <td>2018-05-05 19:28:44</td>\n      <td>1</td>\n      <td>3.95</td>\n      <td>164</td>\n      <td>112</td>\n      <td>NaN</td>\n      <td>NaN</td>\n      <td>NaN</td>\n      <td>NaN</td>\n      <td>1</td>\n      <td>N</td>\n      <td>2</td>\n      <td>17.0</td>\n      <td>0.0</td>\n      <td>0.5</td>\n      <td>0.3</td>\n      <td>0.00</td>\n      <td>5.76</td>\n      <td>23.56</td>\n      <td>2018</td>\n      <td>5</td>\n    </tr>\n    <tr>\n      <th>145405</th>\n      <td>2</td>\n      <td>2018-05-05 22:46:06</td>\n      <td>2018-05-05 22:59:11</td>\n      <td>1</td>\n      <td>1.22</td>\n      <td>264</td>\n      <td>264</td>\n      <td>NaN</td>\n      <td>NaN</td>\n      <td>NaN</td>\n      <td>NaN</td>\n      <td>1</td>\n      <td>N</td>\n      <td>1</td>\n      <td>9.5</td>\n      <td>0.5</td>\n      <td>0.5</td>\n      <td>0.3</td>\n      <td>2.16</td>\n      <td>0.00</td>\n      <td>12.96</td>\n      <td>2018</td>\n      <td>5</td>\n    </tr>\n    <tr>\n      <th>457648</th>\n      <td>1</td>\n      <td>2018-05-06 18:53:06</td>\n      <td>2018-05-06 19:06:31</td>\n      <td>1</td>\n      <td>2.20</td>\n      <td>246</td>\n      <td>162</td>\n      <td>NaN</td>\n      <td>NaN</td>\n      <td>NaN</td>\n      <td>NaN</td>\n      <td>1</td>\n      <td>N</td>\n      <td>2</td>\n      <td>11.0</td>\n      <td>0.0</td>\n      <td>0.5</td>\n      <td>0.3</td>\n      <td>0.00</td>\n      <td>0.00</td>\n      <td>11.80</td>\n      <td>2018</td>\n      <td>5</td>\n    </tr>\n    <tr>\n      <th>369051</th>\n      <td>2</td>\n      <td>2018-05-02 09:25:13</td>\n      <td>2018-05-02 09:36:32</td>\n      <td>1</td>\n      <td>0.89</td>\n      <td>161</td>\n      <td>162</td>\n      <td>NaN</td>\n      <td>NaN</td>\n      <td>NaN</td>\n      <td>NaN</td>\n      <td>1</td>\n      <td>N</td>\n      <td>1</td>\n      <td>8.0</td>\n      <td>0.0</td>\n      <td>0.5</td>\n      <td>0.3</td>\n      <td>1.76</td>\n      <td>0.00</td>\n      <td>10.56</td>\n      <td>2018</td>\n      <td>5</td>\n    </tr>\n    <tr>\n      <th>38871</th>\n      <td>2</td>\n      <td>2018-05-04 02:58:10</td>\n      <td>2018-05-04 03:01:10</td>\n      <td>3</td>\n      <td>0.45</td>\n      <td>79</td>\n      <td>4</td>\n      <td>NaN</td>\n      <td>NaN</td>\n      <td>NaN</td>\n      <td>NaN</td>\n      <td>1</td>\n      <td>N</td>\n      <td>1</td>\n      <td>4.0</td>\n      <td>0.5</td>\n      <td>0.5</td>\n      <td>0.3</td>\n      <td>1.32</td>\n      <td>0.00</td>\n      <td>6.62</td>\n      <td>2018</td>\n      <td>5</td>\n    </tr>\n  </tbody>\n</table>\n</div>"
          },
          "metadata": {}
        }
      ],
      "execution_count": 2,
      "metadata": {
        "jupyter": {
          "source_hidden": false,
          "outputs_hidden": false
        },
        "nteract": {
          "transient": {
            "deleting": false
          }
        },
        "collapsed": true
      }
    },
    {
      "cell_type": "markdown",
      "source": [
        "## Prepare and featurize data\r\n",
        "- There are extra dimensions that are not going to be useful in the model. We just take the dimensions that we need and put them into the featurised dataframe. \r\n",
        "- There are also a bunch of outliers in the data so we need to filter them out."
      ],
      "metadata": {
        "nteract": {
          "transient": {
            "deleting": false
          }
        }
      }
    },
    {
      "cell_type": "code",
      "source": [
        "import numpy\r\n",
        "import pandas\r\n",
        "\r\n",
        "def get_pickup_time(df):\r\n",
        "    pickupHour = df['pickupHour'];\r\n",
        "    if ((pickupHour >= 7) & (pickupHour <= 10)):\r\n",
        "        return 'AMRush'\r\n",
        "    elif ((pickupHour >= 11) & (pickupHour <= 15)):\r\n",
        "        return 'Afternoon'\r\n",
        "    elif ((pickupHour >= 16) & (pickupHour <= 19)):\r\n",
        "        return 'PMRush'\r\n",
        "    else:\r\n",
        "        return 'Night'\r\n",
        "\r\n",
        "featurized_df = pandas.DataFrame()\r\n",
        "featurized_df['tipped'] = (sampled_df['tipAmount'] > 0).astype('int')\r\n",
        "featurized_df['fareAmount'] = sampled_df['fareAmount'].astype('float32')\r\n",
        "featurized_df['paymentType'] = sampled_df['paymentType'].astype('int')\r\n",
        "featurized_df['passengerCount'] = sampled_df['passengerCount'].astype('int')\r\n",
        "featurized_df['tripDistance'] = sampled_df['tripDistance'].astype('float32')\r\n",
        "featurized_df['pickupHour'] = sampled_df['tpepPickupDateTime'].dt.hour.astype('int')\r\n",
        "featurized_df['tripTimeSecs'] = ((sampled_df['tpepDropoffDateTime'] - sampled_df['tpepPickupDateTime']) / numpy.timedelta64(1, 's')).astype('int')\r\n",
        "\r\n",
        "featurized_df['pickupTimeBin'] = featurized_df.apply(get_pickup_time, axis=1)\r\n",
        "featurized_df = featurized_df.drop(columns='pickupHour')\r\n",
        "\r\n",
        "display(featurized_df.head(5))\r\n"
      ],
      "outputs": [
        {
          "output_type": "display_data",
          "data": {
            "application/vnd.livy.statement-meta+json": {
              "spark_pool": "sparkpool",
              "session_id": 3,
              "statement_id": 3,
              "state": "finished",
              "livy_statement_state": "available",
              "queued_time": "2021-10-12T07:32:45.0730039Z",
              "session_start_time": null,
              "execution_start_time": "2021-10-12T07:32:45.1859251Z",
              "execution_finish_time": "2021-10-12T07:32:45.7029417Z"
            },
            "text/plain": "StatementMeta(sparkpool, 3, 3, Finished, Available)"
          },
          "metadata": {}
        },
        {
          "output_type": "display_data",
          "data": {
            "text/plain": "        tipped  fareAmount  ...  tripTimeSecs  pickupTimeBin\n87213        0        17.0  ...          1303         PMRush\n145405       1         9.5  ...           785          Night\n457648       0        11.0  ...           805         PMRush\n369051       1         8.0  ...           679         AMRush\n38871        1         4.0  ...           180          Night\n\n[5 rows x 7 columns]",
            "text/html": "<div>\n<style scoped>\n    .dataframe tbody tr th:only-of-type {\n        vertical-align: middle;\n    }\n\n    .dataframe tbody tr th {\n        vertical-align: top;\n    }\n\n    .dataframe thead th {\n        text-align: right;\n    }\n</style>\n<table border=\"1\" class=\"dataframe\">\n  <thead>\n    <tr style=\"text-align: right;\">\n      <th></th>\n      <th>tipped</th>\n      <th>fareAmount</th>\n      <th>paymentType</th>\n      <th>passengerCount</th>\n      <th>tripDistance</th>\n      <th>tripTimeSecs</th>\n      <th>pickupTimeBin</th>\n    </tr>\n  </thead>\n  <tbody>\n    <tr>\n      <th>87213</th>\n      <td>0</td>\n      <td>17.0</td>\n      <td>2</td>\n      <td>1</td>\n      <td>3.95</td>\n      <td>1303</td>\n      <td>PMRush</td>\n    </tr>\n    <tr>\n      <th>145405</th>\n      <td>1</td>\n      <td>9.5</td>\n      <td>1</td>\n      <td>1</td>\n      <td>1.22</td>\n      <td>785</td>\n      <td>Night</td>\n    </tr>\n    <tr>\n      <th>457648</th>\n      <td>0</td>\n      <td>11.0</td>\n      <td>2</td>\n      <td>1</td>\n      <td>2.20</td>\n      <td>805</td>\n      <td>PMRush</td>\n    </tr>\n    <tr>\n      <th>369051</th>\n      <td>1</td>\n      <td>8.0</td>\n      <td>1</td>\n      <td>1</td>\n      <td>0.89</td>\n      <td>679</td>\n      <td>AMRush</td>\n    </tr>\n    <tr>\n      <th>38871</th>\n      <td>1</td>\n      <td>4.0</td>\n      <td>1</td>\n      <td>3</td>\n      <td>0.45</td>\n      <td>180</td>\n      <td>Night</td>\n    </tr>\n  </tbody>\n</table>\n</div>"
          },
          "metadata": {}
        }
      ],
      "execution_count": 3,
      "metadata": {
        "jupyter": {
          "source_hidden": false,
          "outputs_hidden": false
        },
        "nteract": {
          "transient": {
            "deleting": false
          }
        },
        "collapsed": true
      }
    },
    {
      "cell_type": "code",
      "source": [
        "filtered_df = featurized_df[(featurized_df.tipped >= 0) & (featurized_df.tipped <= 1)\\\r\n",
        "    & (featurized_df.fareAmount >= 1) & (featurized_df.fareAmount <= 250)\\\r\n",
        "    & (featurized_df.paymentType >= 1) & (featurized_df.paymentType <= 2)\\\r\n",
        "    & (featurized_df.passengerCount > 0) & (featurized_df.passengerCount < 8)\\\r\n",
        "    & (featurized_df.tripDistance >= 0) & (featurized_df.tripDistance <= 100)\\\r\n",
        "    & (featurized_df.tripTimeSecs >= 30) & (featurized_df.tripTimeSecs <= 7200)]\r\n",
        "\r\n",
        "filtered_df.info()"
      ],
      "outputs": [
        {
          "output_type": "display_data",
          "data": {
            "application/vnd.livy.statement-meta+json": {
              "spark_pool": "sparkpool",
              "session_id": 3,
              "statement_id": 4,
              "state": "finished",
              "livy_statement_state": "available",
              "queued_time": "2021-10-12T07:32:48.5352029Z",
              "session_start_time": null,
              "execution_start_time": "2021-10-12T07:32:48.62277Z",
              "execution_finish_time": "2021-10-12T07:32:48.7798762Z"
            },
            "text/plain": "StatementMeta(sparkpool, 3, 4, Finished, Available)"
          },
          "metadata": {}
        },
        {
          "output_type": "stream",
          "name": "stdout",
          "text": [
            "<class 'pandas.core.frame.DataFrame'>\nInt64Index: 9776 entries, 87213 to 333274\nData columns (total 7 columns):\ntipped            9776 non-null int64\nfareAmount        9776 non-null float32\npaymentType       9776 non-null int64\npassengerCount    9776 non-null int64\ntripDistance      9776 non-null float32\ntripTimeSecs      9776 non-null int64\npickupTimeBin     9776 non-null object\ndtypes: float32(2), int64(4), object(1)\nmemory usage: 534.6+ KB"
          ]
        }
      ],
      "execution_count": 4,
      "metadata": {
        "jupyter": {
          "source_hidden": false,
          "outputs_hidden": false
        },
        "nteract": {
          "transient": {
            "deleting": false
          }
        },
        "collapsed": true
      }
    },
    {
      "cell_type": "markdown",
      "source": [
        "## Save the data to spark table"
      ],
      "metadata": {
        "nteract": {
          "transient": {
            "deleting": false
          }
        }
      }
    },
    {
      "cell_type": "code",
      "source": [
        "spark_df = spark.createDataFrame(filtered_df)\r\n",
        "spark_df.write.mode(\"overwrite\").saveAsTable(\"default.NYC_Taxi\")"
      ],
      "outputs": [
        {
          "output_type": "display_data",
          "data": {
            "application/vnd.livy.statement-meta+json": {
              "spark_pool": "sparkpool",
              "session_id": 3,
              "statement_id": 5,
              "state": "finished",
              "livy_statement_state": "available",
              "queued_time": "2021-10-12T07:32:52.6252751Z",
              "session_start_time": null,
              "execution_start_time": "2021-10-12T07:32:52.7148306Z",
              "execution_finish_time": "2021-10-12T07:33:13.5878114Z"
            },
            "text/plain": "StatementMeta(sparkpool, 3, 5, Finished, Available)"
          },
          "metadata": {}
        },
        {
          "output_type": "stream",
          "name": "stdout",
          "text": [
            "/opt/spark/python/lib/pyspark.zip/pyspark/sql/session.py:714: UserWarning: createDataFrame attempted Arrow optimization because 'spark.sql.execution.arrow.enabled' is set to true; however, failed by the reason below:\n  'JavaPackage' object is not callable\nAttempting non-optimization as 'spark.sql.execution.arrow.fallback.enabled' is set to true."
          ]
        }
      ],
      "execution_count": 5,
      "metadata": {
        "jupyter": {
          "source_hidden": false,
          "outputs_hidden": false
        },
        "nteract": {
          "transient": {
            "deleting": false
          }
        },
        "collapsed": true
      }
    },
    {
      "cell_type": "markdown",
      "source": [
        "## Drop the spark table"
      ],
      "metadata": {
        "nteract": {
          "transient": {
            "deleting": false
          }
        }
      }
    },
    {
      "cell_type": "code",
      "source": [
        "%%sql\r\n",
        "\r\n",
        "/* drop table default.NYC_Taxi */"
      ],
      "outputs": [
        {
          "output_type": "display_data",
          "data": {
            "application/vnd.livy.statement-meta+json": {
              "spark_pool": "sparkpool",
              "session_id": 3,
              "statement_id": 6,
              "state": "finished",
              "livy_statement_state": "available",
              "queued_time": "2021-10-12T07:35:12.1673138Z",
              "session_start_time": null,
              "execution_start_time": "2021-10-12T07:35:12.2739916Z",
              "execution_finish_time": "2021-10-12T07:35:14.0711671Z"
            },
            "text/plain": "StatementMeta(sparkpool, 3, 6, Finished, Available)"
          },
          "metadata": {}
        },
        {
          "output_type": "execute_result",
          "execution_count": 6,
          "data": {
            "application/vnd.synapse.sparksql-result+json": {
              "schema": {
                "type": "struct",
                "fields": []
              },
              "data": []
            },
            "text/plain": "<Spark SQL result set with 0 rows and 0 fields>"
          },
          "metadata": {}
        }
      ],
      "execution_count": 6,
      "metadata": {
        "jupyter": {
          "source_hidden": false,
          "outputs_hidden": false
        },
        "nteract": {
          "transient": {
            "deleting": false
          }
        },
        "microsoft": {
          "language": "sparksql"
        },
        "collapsed": false
      }
    }
  ],
  "metadata": {
    "kernelspec": {
      "name": "synapse_pyspark",
      "language": "Python",
      "display_name": "Synapse PySpark"
    },
    "language_info": {
      "name": "python"
    },
    "kernel_info": {
      "name": "synapse_pyspark"
    },
    "save_output": true,
    "synapse_widget": {
      "version": "0.1",
      "state": {}
    }
  },
  "nbformat": 4,
  "nbformat_minor": 2
}